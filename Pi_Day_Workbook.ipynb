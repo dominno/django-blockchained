{
 "cells": [
  {
   "cell_type": "code",
   "execution_count": 26,
   "metadata": {},
   "outputs": [],
   "source": [
    "from solc import compile_source"
   ]
  },
  {
   "cell_type": "code",
   "execution_count": 27,
   "metadata": {},
   "outputs": [],
   "source": [
    "from web3 import Web3, HTTPProvider,TestRPCProvider\n"
   ]
  },
  {
   "cell_type": "code",
   "execution_count": 28,
   "metadata": {},
   "outputs": [],
   "source": [
    "from web3.contract import ConciseContract"
   ]
  },
  {
   "cell_type": "code",
   "execution_count": 29,
   "metadata": {},
   "outputs": [],
   "source": [
    "# the candidates we're allowing people to vote for\n",
    "# note that each name is being encoded to bytes because our contract \n",
    "# type is bytes32[]\n",
    "#VOTING_CANDIDATES = ['Rama'.encode(), 'Nick'.encode(), 'Jose'.encode()]\n",
    "\n",
    "# open a connection to the testrpc\n",
    "http_provider = HTTPProvider('http://localhost:8545')\n",
    "eth_provider = Web3(http_provider).eth"
   ]
  },
  {
   "cell_type": "code",
   "execution_count": 30,
   "metadata": {},
   "outputs": [],
   "source": [
    "# we'll use one of our default accounts to deploy from. every write to the chain requires a\n",
    "# payment of ethereum called \"gas\". if we were running an actual test ethereum node locally,\n",
    "# then we'd have to go on the test net and get some free ethereum to play with. that is beyond\n",
    "# the scope of this tutorial so we're using a mini local node that has unlimited ethereum and\n",
    "# the only chain we're using is our own local one\n",
    "default_account = eth_provider.accounts[0]\n",
    "# every time we write to the chain it's considered a \"transaction\". every time a transaction\n",
    "# is made we need to send with it at a minimum the info of the account that is paying for the gas\n",
    "transaction_details = {\n",
    "    'from': default_account,\n",
    "}"
   ]
  },
  {
   "cell_type": "code",
   "execution_count": 31,
   "metadata": {},
   "outputs": [],
   "source": [
    "# if not app.config.get('CONTRACT_ADDRESS'):\n",
    "# load our Solidity code into an object\n",
    "with open('/Users/r2q2/Desktop/work/django-ethereum-starter/django_ethereum_starter/django-blockchained/vorpal/solidity/Division.sol') as file:\n",
    "    source_code = file.readlines()"
   ]
  },
  {
   "cell_type": "code",
   "execution_count": 7,
   "metadata": {},
   "outputs": [],
   "source": [
    "# compile the contract\n",
    "compiled_code = compile_source(''.join(source_code))"
   ]
  },
  {
   "cell_type": "code",
   "execution_count": 8,
   "metadata": {},
   "outputs": [
    {
     "data": {
      "text/plain": [
       "{'<stdin>:Divide': {'abi': [{'constant': True,\n",
       "    'inputs': [{'name': 'numerator', 'type': 'uint256'},\n",
       "     {'name': 'denominator', 'type': 'uint256'},\n",
       "     {'name': 'precision', 'type': 'uint256'}],\n",
       "    'name': 'percent',\n",
       "    'outputs': [{'name': 'quotient', 'type': 'uint256'}],\n",
       "    'payable': False,\n",
       "    'stateMutability': 'view',\n",
       "    'type': 'function'}],\n",
       "  'asm': {'.code': [{'begin': 25, 'end': 384, 'name': 'PUSH', 'value': '60'},\n",
       "    {'begin': 25, 'end': 384, 'name': 'PUSH', 'value': '40'},\n",
       "    {'begin': 25, 'end': 384, 'name': 'MSTORE'},\n",
       "    {'begin': 25, 'end': 384, 'name': 'CALLVALUE'},\n",
       "    {'begin': 25, 'end': 384, 'name': 'ISZERO'},\n",
       "    {'begin': 25, 'end': 384, 'name': 'PUSH [tag]', 'value': '1'},\n",
       "    {'begin': 25, 'end': 384, 'name': 'JUMPI'},\n",
       "    {'begin': 25, 'end': 384, 'name': 'PUSH', 'value': '0'},\n",
       "    {'begin': 25, 'end': 384, 'name': 'DUP1'},\n",
       "    {'begin': 25, 'end': 384, 'name': 'REVERT'},\n",
       "    {'begin': 25, 'end': 384, 'name': 'tag', 'value': '1'},\n",
       "    {'begin': 25, 'end': 384, 'name': 'JUMPDEST'},\n",
       "    {'begin': 25,\n",
       "     'end': 384,\n",
       "     'name': 'PUSH #[$]',\n",
       "     'value': '0000000000000000000000000000000000000000000000000000000000000000'},\n",
       "    {'begin': 25, 'end': 384, 'name': 'DUP1'},\n",
       "    {'begin': 25,\n",
       "     'end': 384,\n",
       "     'name': 'PUSH [$]',\n",
       "     'value': '0000000000000000000000000000000000000000000000000000000000000000'},\n",
       "    {'begin': 25, 'end': 384, 'name': 'PUSH', 'value': '0'},\n",
       "    {'begin': 25, 'end': 384, 'name': 'CODECOPY'},\n",
       "    {'begin': 25, 'end': 384, 'name': 'PUSH', 'value': '0'},\n",
       "    {'begin': 25, 'end': 384, 'name': 'RETURN'}],\n",
       "   '.data': {'0': {'.auxdata': 'a165627a7a72305820ea33cd9245f61104ea6877e34ce6377aa8789080115df952b98549d2728079ed0029',\n",
       "     '.code': [{'begin': 25, 'end': 384, 'name': 'PUSH', 'value': '60'},\n",
       "      {'begin': 25, 'end': 384, 'name': 'PUSH', 'value': '40'},\n",
       "      {'begin': 25, 'end': 384, 'name': 'MSTORE'},\n",
       "      {'begin': 25, 'end': 384, 'name': 'PUSH', 'value': '4'},\n",
       "      {'begin': 25, 'end': 384, 'name': 'CALLDATASIZE'},\n",
       "      {'begin': 25, 'end': 384, 'name': 'LT'},\n",
       "      {'begin': 25, 'end': 384, 'name': 'PUSH [tag]', 'value': '1'},\n",
       "      {'begin': 25, 'end': 384, 'name': 'JUMPI'},\n",
       "      {'begin': 25, 'end': 384, 'name': 'PUSH', 'value': '0'},\n",
       "      {'begin': 25, 'end': 384, 'name': 'CALLDATALOAD'},\n",
       "      {'begin': 25,\n",
       "       'end': 384,\n",
       "       'name': 'PUSH',\n",
       "       'value': '100000000000000000000000000000000000000000000000000000000'},\n",
       "      {'begin': 25, 'end': 384, 'name': 'SWAP1'},\n",
       "      {'begin': 25, 'end': 384, 'name': 'DIV'},\n",
       "      {'begin': 25, 'end': 384, 'name': 'PUSH', 'value': 'FFFFFFFF'},\n",
       "      {'begin': 25, 'end': 384, 'name': 'AND'},\n",
       "      {'begin': 25, 'end': 384, 'name': 'DUP1'},\n",
       "      {'begin': 25, 'end': 384, 'name': 'PUSH', 'value': '2C1A9E'},\n",
       "      {'begin': 25, 'end': 384, 'name': 'EQ'},\n",
       "      {'begin': 25, 'end': 384, 'name': 'PUSH [tag]', 'value': '2'},\n",
       "      {'begin': 25, 'end': 384, 'name': 'JUMPI'},\n",
       "      {'begin': 25, 'end': 384, 'name': 'tag', 'value': '1'},\n",
       "      {'begin': 25, 'end': 384, 'name': 'JUMPDEST'},\n",
       "      {'begin': 25, 'end': 384, 'name': 'PUSH', 'value': '0'},\n",
       "      {'begin': 25, 'end': 384, 'name': 'DUP1'},\n",
       "      {'begin': 25, 'end': 384, 'name': 'REVERT'},\n",
       "      {'begin': 44, 'end': 381, 'name': 'tag', 'value': '2'},\n",
       "      {'begin': 44, 'end': 381, 'name': 'JUMPDEST'},\n",
       "      {'begin': 44, 'end': 381, 'name': 'CALLVALUE'},\n",
       "      {'begin': 44, 'end': 381, 'name': 'ISZERO'},\n",
       "      {'begin': 44, 'end': 381, 'name': 'PUSH [tag]', 'value': '3'},\n",
       "      {'begin': 44, 'end': 381, 'name': 'JUMPI'},\n",
       "      {'begin': 44, 'end': 381, 'name': 'PUSH', 'value': '0'},\n",
       "      {'begin': 44, 'end': 381, 'name': 'DUP1'},\n",
       "      {'begin': 44, 'end': 381, 'name': 'REVERT'},\n",
       "      {'begin': 44, 'end': 381, 'name': 'tag', 'value': '3'},\n",
       "      {'begin': 44, 'end': 381, 'name': 'JUMPDEST'},\n",
       "      {'begin': 44, 'end': 381, 'name': 'PUSH [tag]', 'value': '4'},\n",
       "      {'begin': 44, 'end': 381, 'name': 'PUSH', 'value': '4'},\n",
       "      {'begin': 44, 'end': 381, 'name': 'DUP1'},\n",
       "      {'begin': 44, 'end': 381, 'name': 'DUP1'},\n",
       "      {'begin': 44, 'end': 381, 'name': 'CALLDATALOAD'},\n",
       "      {'begin': 44, 'end': 381, 'name': 'SWAP1'},\n",
       "      {'begin': 44, 'end': 381, 'name': 'PUSH', 'value': '20'},\n",
       "      {'begin': 44, 'end': 381, 'name': 'ADD'},\n",
       "      {'begin': 44, 'end': 381, 'name': 'SWAP1'},\n",
       "      {'begin': 44, 'end': 381, 'name': 'SWAP2'},\n",
       "      {'begin': 44, 'end': 381, 'name': 'SWAP1'},\n",
       "      {'begin': 44, 'end': 381, 'name': 'DUP1'},\n",
       "      {'begin': 44, 'end': 381, 'name': 'CALLDATALOAD'},\n",
       "      {'begin': 44, 'end': 381, 'name': 'SWAP1'},\n",
       "      {'begin': 44, 'end': 381, 'name': 'PUSH', 'value': '20'},\n",
       "      {'begin': 44, 'end': 381, 'name': 'ADD'},\n",
       "      {'begin': 44, 'end': 381, 'name': 'SWAP1'},\n",
       "      {'begin': 44, 'end': 381, 'name': 'SWAP2'},\n",
       "      {'begin': 44, 'end': 381, 'name': 'SWAP1'},\n",
       "      {'begin': 44, 'end': 381, 'name': 'DUP1'},\n",
       "      {'begin': 44, 'end': 381, 'name': 'CALLDATALOAD'},\n",
       "      {'begin': 44, 'end': 381, 'name': 'SWAP1'},\n",
       "      {'begin': 44, 'end': 381, 'name': 'PUSH', 'value': '20'},\n",
       "      {'begin': 44, 'end': 381, 'name': 'ADD'},\n",
       "      {'begin': 44, 'end': 381, 'name': 'SWAP1'},\n",
       "      {'begin': 44, 'end': 381, 'name': 'SWAP2'},\n",
       "      {'begin': 44, 'end': 381, 'name': 'SWAP1'},\n",
       "      {'begin': 44, 'end': 381, 'name': 'POP'},\n",
       "      {'begin': 44, 'end': 381, 'name': 'POP'},\n",
       "      {'begin': 44, 'end': 381, 'name': 'PUSH [tag]', 'value': '5'},\n",
       "      {'begin': 44, 'end': 381, 'name': 'JUMP'},\n",
       "      {'begin': 44, 'end': 381, 'name': 'tag', 'value': '4'},\n",
       "      {'begin': 44, 'end': 381, 'name': 'JUMPDEST'},\n",
       "      {'begin': 44, 'end': 381, 'name': 'PUSH', 'value': '40'},\n",
       "      {'begin': 44, 'end': 381, 'name': 'MLOAD'},\n",
       "      {'begin': 44, 'end': 381, 'name': 'DUP1'},\n",
       "      {'begin': 44, 'end': 381, 'name': 'DUP3'},\n",
       "      {'begin': 44, 'end': 381, 'name': 'DUP2'},\n",
       "      {'begin': 44, 'end': 381, 'name': 'MSTORE'},\n",
       "      {'begin': 44, 'end': 381, 'name': 'PUSH', 'value': '20'},\n",
       "      {'begin': 44, 'end': 381, 'name': 'ADD'},\n",
       "      {'begin': 44, 'end': 381, 'name': 'SWAP2'},\n",
       "      {'begin': 44, 'end': 381, 'name': 'POP'},\n",
       "      {'begin': 44, 'end': 381, 'name': 'POP'},\n",
       "      {'begin': 44, 'end': 381, 'name': 'PUSH', 'value': '40'},\n",
       "      {'begin': 44, 'end': 381, 'name': 'MLOAD'},\n",
       "      {'begin': 44, 'end': 381, 'name': 'DUP1'},\n",
       "      {'begin': 44, 'end': 381, 'name': 'SWAP2'},\n",
       "      {'begin': 44, 'end': 381, 'name': 'SUB'},\n",
       "      {'begin': 44, 'end': 381, 'name': 'SWAP1'},\n",
       "      {'begin': 44, 'end': 381, 'name': 'RETURN'},\n",
       "      {'begin': 44, 'end': 381, 'name': 'tag', 'value': '5'},\n",
       "      {'begin': 44, 'end': 381, 'name': 'JUMPDEST'},\n",
       "      {'begin': 138, 'end': 151, 'name': 'PUSH', 'value': '0'},\n",
       "      {'begin': 205, 'end': 220, 'name': 'DUP1'},\n",
       "      {'begin': 296, 'end': 310, 'name': 'PUSH', 'value': '0'},\n",
       "      {'begin': 253, 'end': 254, 'name': 'PUSH', 'value': '1'},\n",
       "      {'begin': 243, 'end': 252, 'name': 'DUP5'},\n",
       "      {'begin': 243, 'end': 254, 'name': 'ADD'},\n",
       "      {'begin': 236, 'end': 238, 'name': 'PUSH', 'value': 'A'},\n",
       "      {'begin': 236, 'end': 255, 'name': 'EXP'},\n",
       "      {'begin': 224, 'end': 233, 'name': 'DUP7'},\n",
       "      {'begin': 224, 'end': 255, 'name': 'MUL'},\n",
       "      {'begin': 205, 'end': 255, 'name': 'SWAP2'},\n",
       "      {'begin': 205, 'end': 255, 'name': 'POP'},\n",
       "      {'begin': 349, 'end': 351, 'name': 'PUSH', 'value': 'A'},\n",
       "      {'begin': 344, 'end': 345, 'name': 'PUSH', 'value': '5'},\n",
       "      {'begin': 329, 'end': 340, 'name': 'DUP7'},\n",
       "      {'begin': 316, 'end': 326, 'name': 'DUP5'},\n",
       "      {'begin': 316, 'end': 340, 'name': 'DUP2'},\n",
       "      {'begin': 316, 'end': 340, 'name': 'ISZERO'},\n",
       "      {'begin': 316, 'end': 340, 'name': 'ISZERO'},\n",
       "      {'begin': 316, 'end': 340, 'name': 'PUSH [tag]', 'value': '7'},\n",
       "      {'begin': 316, 'end': 340, 'name': 'JUMPI'},\n",
       "      {'begin': 316, 'end': 340, 'name': 'INVALID'},\n",
       "      {'begin': 316, 'end': 340, 'name': 'tag', 'value': '7'},\n",
       "      {'begin': 316, 'end': 340, 'name': 'JUMPDEST'},\n",
       "      {'begin': 316, 'end': 340, 'name': 'DIV'},\n",
       "      {'begin': 315, 'end': 345, 'name': 'ADD'},\n",
       "      {'begin': 314, 'end': 351, 'name': 'DUP2'},\n",
       "      {'begin': 314, 'end': 351, 'name': 'ISZERO'},\n",
       "      {'begin': 314, 'end': 351, 'name': 'ISZERO'},\n",
       "      {'begin': 314, 'end': 351, 'name': 'PUSH [tag]', 'value': '8'},\n",
       "      {'begin': 314, 'end': 351, 'name': 'JUMPI'},\n",
       "      {'begin': 314, 'end': 351, 'name': 'INVALID'},\n",
       "      {'begin': 314, 'end': 351, 'name': 'tag', 'value': '8'},\n",
       "      {'begin': 314, 'end': 351, 'name': 'JUMPDEST'},\n",
       "      {'begin': 314, 'end': 351, 'name': 'DIV'},\n",
       "      {'begin': 296, 'end': 351, 'name': 'SWAP1'},\n",
       "      {'begin': 296, 'end': 351, 'name': 'POP'},\n",
       "      {'begin': 366, 'end': 375, 'name': 'DUP1'},\n",
       "      {'begin': 357, 'end': 376, 'name': 'SWAP3'},\n",
       "      {'begin': 357, 'end': 376, 'name': 'POP'},\n",
       "      {'begin': 44, 'end': 381, 'name': 'POP'},\n",
       "      {'begin': 44, 'end': 381, 'name': 'POP'},\n",
       "      {'begin': 44, 'end': 381, 'name': 'SWAP4'},\n",
       "      {'begin': 44, 'end': 381, 'name': 'SWAP3'},\n",
       "      {'begin': 44, 'end': 381, 'name': 'POP'},\n",
       "      {'begin': 44, 'end': 381, 'name': 'POP'},\n",
       "      {'begin': 44, 'end': 381, 'name': 'POP'},\n",
       "      {'begin': 44, 'end': 381, 'name': 'JUMP', 'value': '[out]'}]}}},\n",
       "  'bin': '6060604052341561000f57600080fd5b60ec8061001d6000396000f300606060405260043610603e576000357c0100000000000000000000000000000000000000000000000000000000900463ffffffff1680622c1a9e146043575b600080fd5b3415604d57600080fd5b607360048080359060200190919080359060200190919080359060200190919050506089565b6040518082815260200191505060405180910390f35b600080600060018401600a0a86029150600a6005868481151560a757fe5b040181151560b157fe5b049050809250505093925050505600a165627a7a72305820ea33cd9245f61104ea6877e34ce6377aa8789080115df952b98549d2728079ed0029',\n",
       "  'bin-runtime': '606060405260043610603e576000357c0100000000000000000000000000000000000000000000000000000000900463ffffffff1680622c1a9e146043575b600080fd5b3415604d57600080fd5b607360048080359060200190919080359060200190919080359060200190919050506089565b6040518082815260200191505060405180910390f35b600080600060018401600a0a86029150600a6005868481151560a757fe5b040181151560b157fe5b049050809250505093925050505600a165627a7a72305820ea33cd9245f61104ea6877e34ce6377aa8789080115df952b98549d2728079ed0029',\n",
       "  'clone-bin': '60606040523415600e57600080fd5b603380601b6000396000f30036600080376020600036600073cafecafecafecafecafecafecafecafecafecafe6102c65a03f41515602d57fe5b60206000f3',\n",
       "  'devdoc': '{\"methods\":{}}',\n",
       "  'opcodes': 'PUSH1 0x60 PUSH1 0x40 MSTORE CALLVALUE ISZERO PUSH2 0xF JUMPI PUSH1 0x0 DUP1 REVERT JUMPDEST PUSH1 0xEC DUP1 PUSH2 0x1D PUSH1 0x0 CODECOPY PUSH1 0x0 RETURN STOP PUSH1 0x60 PUSH1 0x40 MSTORE PUSH1 0x4 CALLDATASIZE LT PUSH1 0x3E JUMPI PUSH1 0x0 CALLDATALOAD PUSH29 0x100000000000000000000000000000000000000000000000000000000 SWAP1 DIV PUSH4 0xFFFFFFFF AND DUP1 PUSH3 0x2C1A9E EQ PUSH1 0x43 JUMPI JUMPDEST PUSH1 0x0 DUP1 REVERT JUMPDEST CALLVALUE ISZERO PUSH1 0x4D JUMPI PUSH1 0x0 DUP1 REVERT JUMPDEST PUSH1 0x73 PUSH1 0x4 DUP1 DUP1 CALLDATALOAD SWAP1 PUSH1 0x20 ADD SWAP1 SWAP2 SWAP1 DUP1 CALLDATALOAD SWAP1 PUSH1 0x20 ADD SWAP1 SWAP2 SWAP1 DUP1 CALLDATALOAD SWAP1 PUSH1 0x20 ADD SWAP1 SWAP2 SWAP1 POP POP PUSH1 0x89 JUMP JUMPDEST PUSH1 0x40 MLOAD DUP1 DUP3 DUP2 MSTORE PUSH1 0x20 ADD SWAP2 POP POP PUSH1 0x40 MLOAD DUP1 SWAP2 SUB SWAP1 RETURN JUMPDEST PUSH1 0x0 DUP1 PUSH1 0x0 PUSH1 0x1 DUP5 ADD PUSH1 0xA EXP DUP7 MUL SWAP2 POP PUSH1 0xA PUSH1 0x5 DUP7 DUP5 DUP2 ISZERO ISZERO PUSH1 0xA7 JUMPI INVALID JUMPDEST DIV ADD DUP2 ISZERO ISZERO PUSH1 0xB1 JUMPI INVALID JUMPDEST DIV SWAP1 POP DUP1 SWAP3 POP POP POP SWAP4 SWAP3 POP POP POP JUMP STOP LOG1 PUSH6 0x627A7A723058 KECCAK256 0xea CALLER 0xcd SWAP3 GASLIMIT 0xf6 GT DIV 0xea PUSH9 0x77E34CE6377AA87890 DUP1 GT 0x5d 0xf9 MSTORE 0xb9 DUP6 0x49 0xd2 PUSH19 0x8079ED00290000000000000000000000000000 ',\n",
       "  'userdoc': '{\"methods\":{}}'}}"
      ]
     },
     "execution_count": 8,
     "metadata": {},
     "output_type": "execute_result"
    }
   ],
   "source": [
    "compiled_code"
   ]
  },
  {
   "cell_type": "code",
   "execution_count": 11,
   "metadata": {},
   "outputs": [],
   "source": [
    "# contract name so we keep our code DRY\n",
    "contract_name = 'Divide'"
   ]
  },
  {
   "cell_type": "code",
   "execution_count": 12,
   "metadata": {},
   "outputs": [],
   "source": [
    "# lets make the code a bit more readable by storing the values in variables\n",
    "contract_bytecode = compiled_code[f'<stdin>:{contract_name}']['bin']\n",
    "contract_abi = compiled_code[f'<stdin>:{contract_name}']['abi']\n",
    "# the contract abi is important. it's a json representation of our smart contract. this\n",
    "# allows other APIs like JavaScript to understand how to interact with our contract without\n",
    "# reverse engineering our compiled code\n",
    "\n",
    "# create a contract factory. we'll use this to deploy any number of\n",
    "# instances of the contract to the chain\n",
    "contract_factory = eth_provider.contract(\n",
    "    abi=contract_abi,\n",
    "    bytecode=contract_bytecode,\n",
    ")"
   ]
  },
  {
   "cell_type": "code",
   "execution_count": 13,
   "metadata": {},
   "outputs": [],
   "source": [
    "# here we deploy the smart contract\n",
    "# two things are passed into the deploy function:\n",
    "#   1. info about how we want to deploy to the chain\n",
    "#   2. the arguments to pass the smart contract constructor\n",
    "# the deploy() function returns a transaction hash. this is like the id of the\n",
    "# transaction that initially put the contract on the chain\n",
    "transaction_hash = contract_factory.deploy(\n",
    "    # the bare minimum info we give about the deployment is which ethereum account\n",
    "    # is paying the gas to put the contract on the chain\n",
    "    transaction=transaction_details,\n",
    "    # here was pass in a list of smart contract constructor arguments\n",
    "    # our contract constructor takes only one argument, a list of candidate names\n",
    "    args=[VOTING_CANDIDATES],\n",
    ")\n"
   ]
  },
  {
   "cell_type": "code",
   "execution_count": 14,
   "metadata": {},
   "outputs": [],
   "source": [
    "# if we want our frontend to use our deployed contract as it's backend, the frontend\n",
    "# needs to know the address where the contract is located. we use the id of the transaction\n",
    "# to get the full transaction details, then we get the contract address from there\n",
    "transaction_receipt = eth_provider.getTransactionReceipt(transaction_hash)\n",
    "contract_address = transaction_receipt['contractAddress']\n",
    "\n",
    "contract_instance = eth_provider.contract(\n",
    "    abi=contract_abi,\n",
    "    address=contract_address,\n",
    "    # when a contract instance is converted to python, way call the native solidity\n",
    "    # functions like: contract_instance.call().someFunctionHere()\n",
    "    # the .call() notation becomes repetitive so we can pass in ConciseContract as our\n",
    "    # parent class, allowing us to make calls like: contract_instance.someFunctionHere()\n",
    "    ContractFactoryClass=ConciseContract,\n",
    ")\n"
   ]
  },
  {
   "cell_type": "code",
   "execution_count": 20,
   "metadata": {},
   "outputs": [
    {
     "data": {
      "text/plain": [
       "31428571429"
      ]
     },
     "execution_count": 20,
     "metadata": {},
     "output_type": "execute_result"
    }
   ],
   "source": [
    "contract_instance.percent(22,7,10)"
   ]
  },
  {
   "cell_type": "code",
   "execution_count": null,
   "metadata": {},
   "outputs": [],
   "source": []
  }
 ],
 "metadata": {
  "kernelspec": {
   "display_name": "Python 3",
   "language": "python",
   "name": "python3"
  },
  "language_info": {
   "codemirror_mode": {
    "name": "ipython",
    "version": 3
   },
   "file_extension": ".py",
   "mimetype": "text/x-python",
   "name": "python",
   "nbconvert_exporter": "python",
   "pygments_lexer": "ipython3",
   "version": "3.6.3"
  }
 },
 "nbformat": 4,
 "nbformat_minor": 2
}
